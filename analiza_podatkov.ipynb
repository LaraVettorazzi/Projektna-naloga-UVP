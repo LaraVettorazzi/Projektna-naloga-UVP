{
 "cells": [
  {
   "cell_type": "markdown",
   "metadata": {},
   "source": [
    "V spodnji tabeli so zajeti vsi podatki, ki smo se jih odločili analizirati."
   ]
  },
  {
   "cell_type": "code",
   "execution_count": 1,
   "metadata": {},
   "outputs": [
    {
     "data": {
      "text/html": [
       "<div>\n",
       "<style scoped>\n",
       "    .dataframe tbody tr th:only-of-type {\n",
       "        vertical-align: middle;\n",
       "    }\n",
       "\n",
       "    .dataframe tbody tr th {\n",
       "        vertical-align: top;\n",
       "    }\n",
       "\n",
       "    .dataframe thead th {\n",
       "        text-align: right;\n",
       "    }\n",
       "</style>\n",
       "<table border=\"1\" class=\"dataframe\">\n",
       "  <thead>\n",
       "    <tr style=\"text-align: right;\">\n",
       "      <th></th>\n",
       "      <th>Ime</th>\n",
       "      <th>Kategorija</th>\n",
       "      <th>Težavnost</th>\n",
       "      <th>Čas (min)</th>\n",
       "      <th>Hranilna vrednost (kcal/100g)</th>\n",
       "      <th>Koraki</th>\n",
       "      <th>Sestavine</th>\n",
       "      <th>Opis</th>\n",
       "      <th>Dolžina opisa (besede)</th>\n",
       "      <th>Dolžina opisa (črke)</th>\n",
       "    </tr>\n",
       "  </thead>\n",
       "  <tbody>\n",
       "    <tr>\n",
       "      <th>0</th>\n",
       "      <td>Slivovi cmoki iz skutnega testa</td>\n",
       "      <td>Slovenska</td>\n",
       "      <td>2</td>\n",
       "      <td>60</td>\n",
       "      <td>332</td>\n",
       "      <td>4</td>\n",
       "      <td>8</td>\n",
       "      <td>S slivami nadevani cmočki iz rahlega skutnega ...</td>\n",
       "      <td>23</td>\n",
       "      <td>127</td>\n",
       "    </tr>\n",
       "    <tr>\n",
       "      <th>1</th>\n",
       "      <td>Pirina solata z zelenjavo in mocarelo</td>\n",
       "      <td>Brez mesa</td>\n",
       "      <td>1</td>\n",
       "      <td>40</td>\n",
       "      <td>118</td>\n",
       "      <td>4</td>\n",
       "      <td>13</td>\n",
       "      <td>Lahka in barvita jed, ki ne vsebuje mesa in je...</td>\n",
       "      <td>33</td>\n",
       "      <td>163</td>\n",
       "    </tr>\n",
       "    <tr>\n",
       "      <th>2</th>\n",
       "      <td>Turška umešana jajca z zelenjavo (menemen)</td>\n",
       "      <td>Jajčne jedi</td>\n",
       "      <td>1</td>\n",
       "      <td>30</td>\n",
       "      <td>62</td>\n",
       "      <td>5</td>\n",
       "      <td>8</td>\n",
       "      <td>Menemen je nekakšna turška različica sataraša....</td>\n",
       "      <td>60</td>\n",
       "      <td>321</td>\n",
       "    </tr>\n",
       "    <tr>\n",
       "      <th>3</th>\n",
       "      <td>Paprike z mletim mesom in rižem iz ene ponve</td>\n",
       "      <td>Glavne jedi</td>\n",
       "      <td>1</td>\n",
       "      <td>45</td>\n",
       "      <td>131</td>\n",
       "      <td>6</td>\n",
       "      <td>13</td>\n",
       "      <td>Ko ne boste imeli časa ali volje, da bi se lot...</td>\n",
       "      <td>33</td>\n",
       "      <td>162</td>\n",
       "    </tr>\n",
       "    <tr>\n",
       "      <th>4</th>\n",
       "      <td>Pikantne polnjene paprike s tuno in kaprami</td>\n",
       "      <td>Domači pripravki</td>\n",
       "      <td>1</td>\n",
       "      <td>75</td>\n",
       "      <td>84</td>\n",
       "      <td>9</td>\n",
       "      <td>11</td>\n",
       "      <td>Poletje se počasi končuje, z njim pa je poveza...</td>\n",
       "      <td>72</td>\n",
       "      <td>375</td>\n",
       "    </tr>\n",
       "    <tr>\n",
       "      <th>...</th>\n",
       "      <td>...</td>\n",
       "      <td>...</td>\n",
       "      <td>...</td>\n",
       "      <td>...</td>\n",
       "      <td>...</td>\n",
       "      <td>...</td>\n",
       "      <td>...</td>\n",
       "      <td>...</td>\n",
       "      <td>...</td>\n",
       "      <td>...</td>\n",
       "    </tr>\n",
       "    <tr>\n",
       "      <th>6587</th>\n",
       "      <td>Čulbastija</td>\n",
       "      <td>Balkanska</td>\n",
       "      <td>1</td>\n",
       "      <td>45</td>\n",
       "      <td>218</td>\n",
       "      <td>2</td>\n",
       "      <td>5</td>\n",
       "      <td>V originalnem receptu zrezke pripravimo iz svi...</td>\n",
       "      <td>31</td>\n",
       "      <td>166</td>\n",
       "    </tr>\n",
       "    <tr>\n",
       "      <th>6588</th>\n",
       "      <td>Sadna solata</td>\n",
       "      <td>Poletje</td>\n",
       "      <td>1</td>\n",
       "      <td>20</td>\n",
       "      <td>50</td>\n",
       "      <td>4</td>\n",
       "      <td>5</td>\n",
       "      <td>Enostavna solata, polna živahnih barv in bogat...</td>\n",
       "      <td>27</td>\n",
       "      <td>131</td>\n",
       "    </tr>\n",
       "    <tr>\n",
       "      <th>6589</th>\n",
       "      <td>Brancin iz pečice</td>\n",
       "      <td>Ribe in morski sadeži</td>\n",
       "      <td>2</td>\n",
       "      <td>80</td>\n",
       "      <td>88</td>\n",
       "      <td>7</td>\n",
       "      <td>10</td>\n",
       "      <td>Najbolj priljubljena slovenska riba, pripravlj...</td>\n",
       "      <td>27</td>\n",
       "      <td>162</td>\n",
       "    </tr>\n",
       "    <tr>\n",
       "      <th>6590</th>\n",
       "      <td>Žepki s čemažem in kozjo skuto</td>\n",
       "      <td>Vegetarijanstvo</td>\n",
       "      <td>2</td>\n",
       "      <td>50</td>\n",
       "      <td>200</td>\n",
       "      <td>4</td>\n",
       "      <td>8</td>\n",
       "      <td>V žepkih s čemažem sta dve sestavini polni zdr...</td>\n",
       "      <td>80</td>\n",
       "      <td>413</td>\n",
       "    </tr>\n",
       "    <tr>\n",
       "      <th>6591</th>\n",
       "      <td>Tuna casserole</td>\n",
       "      <td>Mehiška</td>\n",
       "      <td>2</td>\n",
       "      <td>80</td>\n",
       "      <td>82</td>\n",
       "      <td>3</td>\n",
       "      <td>15</td>\n",
       "      <td>Preprost recept, dostopne in poceni sestavine,...</td>\n",
       "      <td>17</td>\n",
       "      <td>94</td>\n",
       "    </tr>\n",
       "  </tbody>\n",
       "</table>\n",
       "<p>6592 rows × 10 columns</p>\n",
       "</div>"
      ],
      "text/plain": [
       "                                               Ime             Kategorija  \\\n",
       "0                  Slivovi cmoki iz skutnega testa              Slovenska   \n",
       "1            Pirina solata z zelenjavo in mocarelo              Brez mesa   \n",
       "2       Turška umešana jajca z zelenjavo (menemen)            Jajčne jedi   \n",
       "3     Paprike z mletim mesom in rižem iz ene ponve            Glavne jedi   \n",
       "4      Pikantne polnjene paprike s tuno in kaprami       Domači pripravki   \n",
       "...                                            ...                    ...   \n",
       "6587                                    Čulbastija              Balkanska   \n",
       "6588                                  Sadna solata                Poletje   \n",
       "6589                             Brancin iz pečice  Ribe in morski sadeži   \n",
       "6590                Žepki s čemažem in kozjo skuto        Vegetarijanstvo   \n",
       "6591                                Tuna casserole                Mehiška   \n",
       "\n",
       "      Težavnost  Čas (min)  Hranilna vrednost (kcal/100g)  Koraki  Sestavine  \\\n",
       "0             2         60                            332       4          8   \n",
       "1             1         40                            118       4         13   \n",
       "2             1         30                             62       5          8   \n",
       "3             1         45                            131       6         13   \n",
       "4             1         75                             84       9         11   \n",
       "...         ...        ...                            ...     ...        ...   \n",
       "6587          1         45                            218       2          5   \n",
       "6588          1         20                             50       4          5   \n",
       "6589          2         80                             88       7         10   \n",
       "6590          2         50                            200       4          8   \n",
       "6591          2         80                             82       3         15   \n",
       "\n",
       "                                                   Opis  \\\n",
       "0     S slivami nadevani cmočki iz rahlega skutnega ...   \n",
       "1     Lahka in barvita jed, ki ne vsebuje mesa in je...   \n",
       "2     Menemen je nekakšna turška različica sataraša....   \n",
       "3     Ko ne boste imeli časa ali volje, da bi se lot...   \n",
       "4     Poletje se počasi končuje, z njim pa je poveza...   \n",
       "...                                                 ...   \n",
       "6587  V originalnem receptu zrezke pripravimo iz svi...   \n",
       "6588  Enostavna solata, polna živahnih barv in bogat...   \n",
       "6589  Najbolj priljubljena slovenska riba, pripravlj...   \n",
       "6590  V žepkih s čemažem sta dve sestavini polni zdr...   \n",
       "6591  Preprost recept, dostopne in poceni sestavine,...   \n",
       "\n",
       "      Dolžina opisa (besede)  Dolžina opisa (črke)  \n",
       "0                         23                   127  \n",
       "1                         33                   163  \n",
       "2                         60                   321  \n",
       "3                         33                   162  \n",
       "4                         72                   375  \n",
       "...                      ...                   ...  \n",
       "6587                      31                   166  \n",
       "6588                      27                   131  \n",
       "6589                      27                   162  \n",
       "6590                      80                   413  \n",
       "6591                      17                    94  \n",
       "\n",
       "[6592 rows x 10 columns]"
      ]
     },
     "execution_count": 1,
     "metadata": {},
     "output_type": "execute_result"
    }
   ],
   "source": [
    "import pandas as pd\n",
    "\n",
    "RECEPTI = pd.read_csv('recepti.csv')\n",
    "RECEPTI"
   ]
  },
  {
   "cell_type": "markdown",
   "metadata": {},
   "source": [
    "Oglejmo si, katerih 10 kategorij je pri receptih najbolj pogostih in koliko receptov vsebuje vsaka."
   ]
  },
  {
   "cell_type": "code",
   "execution_count": 2,
   "metadata": {},
   "outputs": [
    {
     "data": {
      "text/plain": [
       "Kategorija\n",
       "Zabava             604\n",
       "Sladice            549\n",
       "Slovenska          541\n",
       "MasterChef         457\n",
       "Zdravo in vegi     348\n",
       "Italijanska        327\n",
       "Poletje            306\n",
       "Meso               275\n",
       "Jesen              226\n",
       "Vegetarijanstvo    214\n",
       "dtype: int64"
      ]
     },
     "execution_count": 2,
     "metadata": {},
     "output_type": "execute_result"
    }
   ],
   "source": [
    "po_kategorijah = RECEPTI.groupby(by= 'Kategorija').size()\n",
    "po_kategorijah.sort_values(ascending=False, inplace=True)\n",
    "po_kategorijah.head(10)"
   ]
  },
  {
   "cell_type": "markdown",
   "metadata": {},
   "source": [
    "Poglejmo si, kakšno je razmerje med recepti posameznih težavnosti."
   ]
  },
  {
   "cell_type": "code",
   "execution_count": 3,
   "metadata": {},
   "outputs": [
    {
     "data": {
      "text/plain": [
       "<Axes: >"
      ]
     },
     "execution_count": 3,
     "metadata": {},
     "output_type": "execute_result"
    },
    {
     "data": {
      "image/png": "[encoded data removed]",
      "text/plain": [
       "<Figure size 640x480 with 1 Axes>"
      ]
     },
     "metadata": {},
     "output_type": "display_data"
    }
   ],
   "source": [
    "RECEPTI.groupby(by= 'Težavnost').size().plot.pie(autopct='%1.1f%%')"
   ]
  },
  {
   "cell_type": "markdown",
   "metadata": {},
   "source": [
    "Očitno na portalu prevladujejo enostavni recepti, zato korelacij med recepti glede na njihovo težavnost nismo iskali."
   ]
  },
  {
   "cell_type": "markdown",
   "metadata": {},
   "source": [
    "Spodnji diagram prikazuje, koliko receptov vsebuje določeno število sestavin."
   ]
  },
  {
   "cell_type": "code",
   "execution_count": 4,
   "metadata": {},
   "outputs": [
    {
     "data": {
      "text/plain": [
       "<Axes: xlabel='Sestavine', ylabel='Št. receptov'>"
      ]
     },
     "execution_count": 4,
     "metadata": {},
     "output_type": "execute_result"
    },
    {
     "data": {
      "image/png": "[encoded data removed]",
      "text/plain": [
       "<Figure size 640x480 with 1 Axes>"
      ]
     },
     "metadata": {},
     "output_type": "display_data"
    }
   ],
   "source": [
    "po_sestavinah = RECEPTI.groupby(by= 'Sestavine').size()\n",
    "po_sestavinah.plot.bar(ylabel= 'Št. receptov')"
   ]
  },
  {
   "cell_type": "markdown",
   "metadata": {},
   "source": [
    "Oglejmo si, koliko časa traja priprava receptov.\n",
    "V tortnem diagramu so časi združeni v 15-minutnih kategorijah, kjer spodnja meja ni vključena, zgornja pa je."
   ]
  },
  {
   "cell_type": "code",
   "execution_count": 5,
   "metadata": {},
   "outputs": [
    {
     "data": {
      "text/plain": [
       "<Axes: >"
      ]
     },
     "execution_count": 5,
     "metadata": {},
     "output_type": "execute_result"
    },
    {
     "data": {
      "image/png": "[encoded data removed]",
      "text/plain": [
       "<Figure size 640x480 with 1 Axes>"
      ]
     },
     "metadata": {},
     "output_type": "display_data"
    }
   ],
   "source": [
    "from pomozne_funkcije import zdruzi_po_casu\n",
    "\n",
    "RECEPTI['Časovni intervali (min)'] = RECEPTI['Čas (min)'].map(zdruzi_po_casu)\n",
    "RECEPTI.groupby(by= 'Časovni intervali (min)').size().plot.pie()\n"
   ]
  },
  {
   "cell_type": "markdown",
   "metadata": {},
   "source": [
    "Zanima nas, ali je med časom priprave in števlom sestavin kakšna povezava. To prikazuje spodnji diagram."
   ]
  },
  {
   "cell_type": "code",
   "execution_count": 6,
   "metadata": {},
   "outputs": [
    {
     "data": {
      "text/plain": [
       "<Axes: xlabel='Sestavine', ylabel='Čas (min)'>"
      ]
     },
     "execution_count": 6,
     "metadata": {},
     "output_type": "execute_result"
    },
    {
     "data": {
      "image/png": "[encoded data removed]",
      "text/plain": [
       "<Figure size 640x480 with 1 Axes>"
      ]
     },
     "metadata": {},
     "output_type": "display_data"
    }
   ],
   "source": [
    "RECEPTI.plot.scatter('Sestavine', 'Čas (min)')"
   ]
  },
  {
   "cell_type": "markdown",
   "metadata": {},
   "source": [
    "Opazimo, da nekaj receptov na grafu izstopa po številu sestavin. Poglejmo si, kateri so to."
   ]
  },
  {
   "cell_type": "code",
   "execution_count": 7,
   "metadata": {},
   "outputs": [
    {
     "data": {
      "text/html": [
       "<div>\n",
       "<style scoped>\n",
       "    .dataframe tbody tr th:only-of-type {\n",
       "        vertical-align: middle;\n",
       "    }\n",
       "\n",
       "    .dataframe tbody tr th {\n",
       "        vertical-align: top;\n",
       "    }\n",
       "\n",
       "    .dataframe thead th {\n",
       "        text-align: right;\n",
       "    }\n",
       "</style>\n",
       "<table border=\"1\" class=\"dataframe\">\n",
       "  <thead>\n",
       "    <tr style=\"text-align: right;\">\n",
       "      <th></th>\n",
       "      <th>Ime</th>\n",
       "      <th>Kategorija</th>\n",
       "      <th>Težavnost</th>\n",
       "      <th>Čas (min)</th>\n",
       "      <th>Hranilna vrednost (kcal/100g)</th>\n",
       "      <th>Koraki</th>\n",
       "      <th>Sestavine</th>\n",
       "      <th>Opis</th>\n",
       "      <th>Dolžina opisa (besede)</th>\n",
       "      <th>Dolžina opisa (črke)</th>\n",
       "      <th>Časovni intervali (min)</th>\n",
       "    </tr>\n",
       "  </thead>\n",
       "  <tbody>\n",
       "    <tr>\n",
       "      <th>1062</th>\n",
       "      <td>Telečja pečenka z devetimi prilogami</td>\n",
       "      <td>MasterChef</td>\n",
       "      <td>2</td>\n",
       "      <td>135</td>\n",
       "      <td>127</td>\n",
       "      <td>14</td>\n",
       "      <td>62</td>\n",
       "      <td>Telečja pečenka s praženim krompirjem, koromač...</td>\n",
       "      <td>57</td>\n",
       "      <td>346</td>\n",
       "      <td>&gt;90</td>\n",
       "    </tr>\n",
       "    <tr>\n",
       "      <th>1548</th>\n",
       "      <td>Sadna torta s pehtranovim biskvitom, stepeno s...</td>\n",
       "      <td>MasterChef</td>\n",
       "      <td>3</td>\n",
       "      <td>110</td>\n",
       "      <td>281</td>\n",
       "      <td>9</td>\n",
       "      <td>43</td>\n",
       "      <td>V čast 25. obletnice Karimove poroke so morali...</td>\n",
       "      <td>42</td>\n",
       "      <td>260</td>\n",
       "      <td>&gt;90</td>\n",
       "    </tr>\n",
       "    <tr>\n",
       "      <th>2049</th>\n",
       "      <td>Srnin file s teranovo omako, špinačni raviol s...</td>\n",
       "      <td>MasterChef</td>\n",
       "      <td>3</td>\n",
       "      <td>75</td>\n",
       "      <td>179</td>\n",
       "      <td>8</td>\n",
       "      <td>43</td>\n",
       "      <td>V finalnem dvoboju tretje sezone kuharskega te...</td>\n",
       "      <td>43</td>\n",
       "      <td>242</td>\n",
       "      <td>60-75</td>\n",
       "    </tr>\n",
       "  </tbody>\n",
       "</table>\n",
       "</div>"
      ],
      "text/plain": [
       "                                                    Ime  Kategorija  \\\n",
       "1062               Telečja pečenka z devetimi prilogami  MasterChef   \n",
       "1548  Sadna torta s pehtranovim biskvitom, stepeno s...  MasterChef   \n",
       "2049  Srnin file s teranovo omako, špinačni raviol s...  MasterChef   \n",
       "\n",
       "      Težavnost  Čas (min)  Hranilna vrednost (kcal/100g)  Koraki  Sestavine  \\\n",
       "1062          2        135                            127      14         62   \n",
       "1548          3        110                            281       9         43   \n",
       "2049          3         75                            179       8         43   \n",
       "\n",
       "                                                   Opis  \\\n",
       "1062  Telečja pečenka s praženim krompirjem, koromač...   \n",
       "1548  V čast 25. obletnice Karimove poroke so morali...   \n",
       "2049  V finalnem dvoboju tretje sezone kuharskega te...   \n",
       "\n",
       "      Dolžina opisa (besede)  Dolžina opisa (črke) Časovni intervali (min)  \n",
       "1062                      57                   346                     >90  \n",
       "1548                      42                   260                     >90  \n",
       "2049                      43                   242                   60-75  "
      ]
     },
     "execution_count": 7,
     "metadata": {},
     "output_type": "execute_result"
    }
   ],
   "source": [
    "RECEPTI.sort_values(by= 'Sestavine', ascending=False, inplace=True)\n",
    "RECEPTI.head(3)"
   ]
  },
  {
   "cell_type": "markdown",
   "metadata": {},
   "source": [
    "Poglejmo si še recepte, ki izstopajo po času priprave."
   ]
  },
  {
   "cell_type": "code",
   "execution_count": 8,
   "metadata": {},
   "outputs": [
    {
     "data": {
      "text/html": [
       "<div>\n",
       "<style scoped>\n",
       "    .dataframe tbody tr th:only-of-type {\n",
       "        vertical-align: middle;\n",
       "    }\n",
       "\n",
       "    .dataframe tbody tr th {\n",
       "        vertical-align: top;\n",
       "    }\n",
       "\n",
       "    .dataframe thead th {\n",
       "        text-align: right;\n",
       "    }\n",
       "</style>\n",
       "<table border=\"1\" class=\"dataframe\">\n",
       "  <thead>\n",
       "    <tr style=\"text-align: right;\">\n",
       "      <th></th>\n",
       "      <th>Ime</th>\n",
       "      <th>Kategorija</th>\n",
       "      <th>Težavnost</th>\n",
       "      <th>Čas (min)</th>\n",
       "      <th>Hranilna vrednost (kcal/100g)</th>\n",
       "      <th>Koraki</th>\n",
       "      <th>Sestavine</th>\n",
       "      <th>Opis</th>\n",
       "      <th>Dolžina opisa (besede)</th>\n",
       "      <th>Dolžina opisa (črke)</th>\n",
       "      <th>Časovni intervali (min)</th>\n",
       "    </tr>\n",
       "  </thead>\n",
       "  <tbody>\n",
       "    <tr>\n",
       "      <th>4426</th>\n",
       "      <td>Božično sadje z oreščki</td>\n",
       "      <td>Zima</td>\n",
       "      <td>1</td>\n",
       "      <td>920</td>\n",
       "      <td>264</td>\n",
       "      <td>4</td>\n",
       "      <td>15</td>\n",
       "      <td>Zmes sadja, oreščkov, začimb in alkohola shran...</td>\n",
       "      <td>47</td>\n",
       "      <td>217</td>\n",
       "      <td>&gt;90</td>\n",
       "    </tr>\n",
       "    <tr>\n",
       "      <th>4482</th>\n",
       "      <td>Domači marshmallowsi</td>\n",
       "      <td>Zabava</td>\n",
       "      <td>2</td>\n",
       "      <td>780</td>\n",
       "      <td>382</td>\n",
       "      <td>5</td>\n",
       "      <td>7</td>\n",
       "      <td>Marshmallow oziroma slez je rastlina iz katere...</td>\n",
       "      <td>68</td>\n",
       "      <td>369</td>\n",
       "      <td>&gt;90</td>\n",
       "    </tr>\n",
       "    <tr>\n",
       "      <th>6038</th>\n",
       "      <td>Paška z breskvami in ingverjem</td>\n",
       "      <td>Velika noč</td>\n",
       "      <td>3</td>\n",
       "      <td>740</td>\n",
       "      <td>109</td>\n",
       "      <td>4</td>\n",
       "      <td>9</td>\n",
       "      <td>Tradicionalna paška je precej kalorična jed; v...</td>\n",
       "      <td>33</td>\n",
       "      <td>174</td>\n",
       "      <td>&gt;90</td>\n",
       "    </tr>\n",
       "  </tbody>\n",
       "</table>\n",
       "</div>"
      ],
      "text/plain": [
       "                                 Ime  Kategorija  Težavnost  Čas (min)  \\\n",
       "4426         Božično sadje z oreščki        Zima          1        920   \n",
       "4482            Domači marshmallowsi      Zabava          2        780   \n",
       "6038  Paška z breskvami in ingverjem  Velika noč          3        740   \n",
       "\n",
       "      Hranilna vrednost (kcal/100g)  Koraki  Sestavine  \\\n",
       "4426                            264       4         15   \n",
       "4482                            382       5          7   \n",
       "6038                            109       4          9   \n",
       "\n",
       "                                                   Opis  \\\n",
       "4426  Zmes sadja, oreščkov, začimb in alkohola shran...   \n",
       "4482  Marshmallow oziroma slez je rastlina iz katere...   \n",
       "6038  Tradicionalna paška je precej kalorična jed; v...   \n",
       "\n",
       "      Dolžina opisa (besede)  Dolžina opisa (črke) Časovni intervali (min)  \n",
       "4426                      47                   217                     >90  \n",
       "4482                      68                   369                     >90  \n",
       "6038                      33                   174                     >90  "
      ]
     },
     "execution_count": 8,
     "metadata": {},
     "output_type": "execute_result"
    }
   ],
   "source": [
    "RECEPTI.sort_values(by= 'Čas (min)', ascending=False, inplace=True)\n",
    "RECEPTI.head(3)"
   ]
  },
  {
   "cell_type": "markdown",
   "metadata": {},
   "source": [
    "Spodnji graf prikazuje hranilno vrednost posameznih receptov."
   ]
  },
  {
   "cell_type": "code",
   "execution_count": 9,
   "metadata": {},
   "outputs": [
    {
     "data": {
      "text/plain": [
       "<Axes: xlabel='Hranilna vrednost (kcal/100g)', ylabel='Št. receptov'>"
      ]
     },
     "execution_count": 9,
     "metadata": {},
     "output_type": "execute_result"
    },
    {
     "data": {
      "image/png": "[encoded data removed]",
      "text/plain": [
       "<Figure size 640x480 with 1 Axes>"
      ]
     },
     "metadata": {},
     "output_type": "display_data"
    }
   ],
   "source": [
    "from pomozne_funkcije import zdruzi_po_kcal\n",
    "\n",
    "RECEPTI['Hranilna vrednost intervali'] = RECEPTI['Hranilna vrednost (kcal/100g)'].map(zdruzi_po_kcal)\n",
    "po_hranilni_vrednosti = RECEPTI.groupby(by= 'Hranilna vrednost intervali').size()\n",
    "po_hranilni_vrednosti.plot.line(xlabel= 'Hranilna vrednost (kcal/100g)', ylabel= 'Št. receptov')"
   ]
  },
  {
   "cell_type": "markdown",
   "metadata": {},
   "source": [
    "Opazimo, da imajo nekateri recepti hranilno vrednost 0 kcal. Oglejmo si jih."
   ]
  },
  {
   "cell_type": "code",
   "execution_count": 10,
   "metadata": {},
   "outputs": [
    {
     "data": {
      "text/html": [
       "<div>\n",
       "<style scoped>\n",
       "    .dataframe tbody tr th:only-of-type {\n",
       "        vertical-align: middle;\n",
       "    }\n",
       "\n",
       "    .dataframe tbody tr th {\n",
       "        vertical-align: top;\n",
       "    }\n",
       "\n",
       "    .dataframe thead th {\n",
       "        text-align: right;\n",
       "    }\n",
       "</style>\n",
       "<table border=\"1\" class=\"dataframe\">\n",
       "  <thead>\n",
       "    <tr style=\"text-align: right;\">\n",
       "      <th></th>\n",
       "      <th>Ime</th>\n",
       "      <th>Kategorija</th>\n",
       "      <th>Opis</th>\n",
       "    </tr>\n",
       "  </thead>\n",
       "  <tbody>\n",
       "    <tr>\n",
       "      <th>5091</th>\n",
       "      <td>Suhi mandarinini olupki</td>\n",
       "      <td>Slovenska</td>\n",
       "      <td>S suhimi mandarininimi olupki boste lahko pope...</td>\n",
       "    </tr>\n",
       "    <tr>\n",
       "      <th>3679</th>\n",
       "      <td>Domač grški jogurt</td>\n",
       "      <td>Zdravo in vegi</td>\n",
       "      <td>Čeprav so grški jogurt prvotno izdelovali iz o...</td>\n",
       "    </tr>\n",
       "    <tr>\n",
       "      <th>5642</th>\n",
       "      <td>Karamelni sladoled</td>\n",
       "      <td>Slovenska</td>\n",
       "      <td>Preprost domač sladoled s karamelo, ki ga lahk...</td>\n",
       "    </tr>\n",
       "    <tr>\n",
       "      <th>2786</th>\n",
       "      <td>Bananin sladoled</td>\n",
       "      <td>Banana na 1001 način</td>\n",
       "      <td>Za pripravo ne potrebujete strojčka za sladole...</td>\n",
       "    </tr>\n",
       "    <tr>\n",
       "      <th>5314</th>\n",
       "      <td>Meringue</td>\n",
       "      <td>Zabava</td>\n",
       "      <td>Majhni puhasti piškotki z mehko sredico in hru...</td>\n",
       "    </tr>\n",
       "    <tr>\n",
       "      <th>...</th>\n",
       "      <td>...</td>\n",
       "      <td>...</td>\n",
       "      <td>...</td>\n",
       "    </tr>\n",
       "    <tr>\n",
       "      <th>2995</th>\n",
       "      <td>Amorjeva puščica</td>\n",
       "      <td>Valentinovo</td>\n",
       "      <td>Uporabite preverjeno formulo in svojega srčneg...</td>\n",
       "    </tr>\n",
       "    <tr>\n",
       "      <th>5399</th>\n",
       "      <td>Rikota z drobnjakom</td>\n",
       "      <td>Zabava</td>\n",
       "      <td>So vas nenapovedani gostje presenetili z obisk...</td>\n",
       "    </tr>\n",
       "    <tr>\n",
       "      <th>5224</th>\n",
       "      <td>Napitek z jabolčnim kisom</td>\n",
       "      <td>Zdravo in vegi</td>\n",
       "      <td>Čas je za čiščenje telesa. Napitek iz jabolčne...</td>\n",
       "    </tr>\n",
       "    <tr>\n",
       "      <th>5919</th>\n",
       "      <td>Toast z arašidovim maslom in banano</td>\n",
       "      <td>Priložnostno</td>\n",
       "      <td>Okusen zajtrk vas bo napolnil s svežo energijo.</td>\n",
       "    </tr>\n",
       "    <tr>\n",
       "      <th>6566</th>\n",
       "      <td>Domači malinovec</td>\n",
       "      <td>Poletje</td>\n",
       "      <td>Iz svežih malin lahko pripravimo domači malino...</td>\n",
       "    </tr>\n",
       "  </tbody>\n",
       "</table>\n",
       "<p>95 rows × 3 columns</p>\n",
       "</div>"
      ],
      "text/plain": [
       "                                      Ime            Kategorija  \\\n",
       "5091              Suhi mandarinini olupki             Slovenska   \n",
       "3679                   Domač grški jogurt        Zdravo in vegi   \n",
       "5642                   Karamelni sladoled             Slovenska   \n",
       "2786                     Bananin sladoled  Banana na 1001 način   \n",
       "5314                             Meringue                Zabava   \n",
       "...                                   ...                   ...   \n",
       "2995                     Amorjeva puščica           Valentinovo   \n",
       "5399                  Rikota z drobnjakom                Zabava   \n",
       "5224            Napitek z jabolčnim kisom        Zdravo in vegi   \n",
       "5919  Toast z arašidovim maslom in banano          Priložnostno   \n",
       "6566                     Domači malinovec               Poletje   \n",
       "\n",
       "                                                   Opis  \n",
       "5091  S suhimi mandarininimi olupki boste lahko pope...  \n",
       "3679  Čeprav so grški jogurt prvotno izdelovali iz o...  \n",
       "5642  Preprost domač sladoled s karamelo, ki ga lahk...  \n",
       "2786  Za pripravo ne potrebujete strojčka za sladole...  \n",
       "5314  Majhni puhasti piškotki z mehko sredico in hru...  \n",
       "...                                                 ...  \n",
       "2995  Uporabite preverjeno formulo in svojega srčneg...  \n",
       "5399  So vas nenapovedani gostje presenetili z obisk...  \n",
       "5224  Čas je za čiščenje telesa. Napitek iz jabolčne...  \n",
       "5919    Okusen zajtrk vas bo napolnil s svežo energijo.  \n",
       "6566  Iz svežih malin lahko pripravimo domači malino...  \n",
       "\n",
       "[95 rows x 3 columns]"
      ]
     },
     "execution_count": 10,
     "metadata": {},
     "output_type": "execute_result"
    }
   ],
   "source": [
    "brez_kcal = RECEPTI['Hranilna vrednost (kcal/100g)'].apply(lambda x: x == 0)\n",
    "tabela_brez_kcal = RECEPTI[brez_kcal]\n",
    "tabela_brez_kcal[['Ime', 'Kategorija', 'Opis']]"
   ]
  },
  {
   "cell_type": "markdown",
   "metadata": {},
   "source": [
    "Ugotovimo, da gre verjetno le za recepte, kjer uporabniki hranilne vrednosti niso zapisali in ne za nekalorične recepte."
   ]
  },
  {
   "cell_type": "markdown",
   "metadata": {},
   "source": [
    "Zanimalo nas je tudi, kako dolge opise receptov pišejo uporabniki spletnega portala. Oglejmo si najprej, ali se dolžini opisa glede na število besed in črk razlikujeta."
   ]
  },
  {
   "cell_type": "code",
   "execution_count": 11,
   "metadata": {},
   "outputs": [
    {
     "data": {
      "text/plain": [
       "<Axes: xlabel='Dolžina opisa (besede)', ylabel='Dolžina opisa (črke)'>"
      ]
     },
     "execution_count": 11,
     "metadata": {},
     "output_type": "execute_result"
    },
    {
     "data": {
      "image/png": "[encoded data removed]",
      "text/plain": [
       "<Figure size 640x480 with 1 Axes>"
      ]
     },
     "metadata": {},
     "output_type": "display_data"
    }
   ],
   "source": [
    "RECEPTI.plot.scatter('Dolžina opisa (besede)', 'Dolžina opisa (črke)')"
   ]
  },
  {
   "cell_type": "markdown",
   "metadata": {},
   "source": [
    "Kot pričakovano posebnih odstopanj ni. Zanimalo pa nas je tudi, ali so uporabniki, ki so pisali najdaljše opise, tudi recept razdelili na največ korakov."
   ]
  },
  {
   "cell_type": "code",
   "execution_count": 12,
   "metadata": {},
   "outputs": [
    {
     "data": {
      "text/plain": [
       "<Axes: xlabel='Dolžina opisa (besede)', ylabel='Koraki'>"
      ]
     },
     "execution_count": 12,
     "metadata": {},
     "output_type": "execute_result"
    },
    {
     "data": {
      "image/png": "[encoded data removed]",
      "text/plain": [
       "<Figure size 640x480 with 1 Axes>"
      ]
     },
     "metadata": {},
     "output_type": "display_data"
    }
   ],
   "source": [
    "RECEPTI.plot.scatter('Dolžina opisa (besede)', 'Koraki')"
   ]
  },
  {
   "cell_type": "markdown",
   "metadata": {},
   "source": [
    "Kljub našim ugibanjem očitne koralacije ni bilo."
   ]
  },
  {
   "cell_type": "markdown",
   "metadata": {},
   "source": [
    "Za konec si oglejmo, pri katerih receptih so se uporabniki pri pisanju opisov najbolj razgovorili ..."
   ]
  },
  {
   "cell_type": "code",
   "execution_count": 13,
   "metadata": {},
   "outputs": [
    {
     "data": {
      "text/html": [
       "<div>\n",
       "<style scoped>\n",
       "    .dataframe tbody tr th:only-of-type {\n",
       "        vertical-align: middle;\n",
       "    }\n",
       "\n",
       "    .dataframe tbody tr th {\n",
       "        vertical-align: top;\n",
       "    }\n",
       "\n",
       "    .dataframe thead th {\n",
       "        text-align: right;\n",
       "    }\n",
       "</style>\n",
       "<table border=\"1\" class=\"dataframe\">\n",
       "  <thead>\n",
       "    <tr style=\"text-align: right;\">\n",
       "      <th></th>\n",
       "      <th>Ime</th>\n",
       "      <th>Opis</th>\n",
       "      <th>Dolžina opisa (besede)</th>\n",
       "    </tr>\n",
       "  </thead>\n",
       "  <tbody>\n",
       "    <tr>\n",
       "      <th>2069</th>\n",
       "      <td>Veganska potica z rožičem</td>\n",
       "      <td>Potica je gotovo najbolj znana in najbolj razš...</td>\n",
       "      <td>162</td>\n",
       "    </tr>\n",
       "    <tr>\n",
       "      <th>1320</th>\n",
       "      <td>Orehova potica z drožmi</td>\n",
       "      <td>V knjigi Potice iz Slovnije prof. dr. Janez Bo...</td>\n",
       "      <td>135</td>\n",
       "    </tr>\n",
       "    <tr>\n",
       "      <th>509</th>\n",
       "      <td>Pica polžki iz kvašenega testa</td>\n",
       "      <td>Pico imamo vsi radi že zaradi neštetih možnost...</td>\n",
       "      <td>118</td>\n",
       "    </tr>\n",
       "    <tr>\n",
       "      <th>1673</th>\n",
       "      <td>Veganski bananini krofi</td>\n",
       "      <td>Veganski bananini krofi s čokoladnim oblivom s...</td>\n",
       "      <td>117</td>\n",
       "    </tr>\n",
       "    <tr>\n",
       "      <th>1100</th>\n",
       "      <td>Francoski topli sendvič croque monsieur</td>\n",
       "      <td>Legenda pravi, da je sendvič nastal tako, da j...</td>\n",
       "      <td>116</td>\n",
       "    </tr>\n",
       "    <tr>\n",
       "      <th>1677</th>\n",
       "      <td>Testenine z zeleno omako</td>\n",
       "      <td>Super zelene testenine, ki so na jedilniku sko...</td>\n",
       "      <td>111</td>\n",
       "    </tr>\n",
       "    <tr>\n",
       "      <th>94</th>\n",
       "      <td>Babičino pecivo s sadjem</td>\n",
       "      <td>Naše mame in babice so bile v kuhnji prave moj...</td>\n",
       "      <td>105</td>\n",
       "    </tr>\n",
       "    <tr>\n",
       "      <th>363</th>\n",
       "      <td>Belgijski vaflji</td>\n",
       "      <td>Vaflji so odlična izbira za tiste dni, ko se ž...</td>\n",
       "      <td>105</td>\n",
       "    </tr>\n",
       "    <tr>\n",
       "      <th>1947</th>\n",
       "      <td>Okusen smoothie iz rdeče pese</td>\n",
       "      <td>Smoothiji postajajo nepogrešljiv del marsikate...</td>\n",
       "      <td>101</td>\n",
       "    </tr>\n",
       "    <tr>\n",
       "      <th>53</th>\n",
       "      <td>Vložena zelenjava</td>\n",
       "      <td>Obilje vrtnih pridelkov nas prav sili, da del ...</td>\n",
       "      <td>101</td>\n",
       "    </tr>\n",
       "  </tbody>\n",
       "</table>\n",
       "</div>"
      ],
      "text/plain": [
       "                                          Ime  \\\n",
       "2069                Veganska potica z rožičem   \n",
       "1320                  Orehova potica z drožmi   \n",
       "509            Pica polžki iz kvašenega testa   \n",
       "1673                  Veganski bananini krofi   \n",
       "1100  Francoski topli sendvič croque monsieur   \n",
       "1677                 Testenine z zeleno omako   \n",
       "94                   Babičino pecivo s sadjem   \n",
       "363                          Belgijski vaflji   \n",
       "1947            Okusen smoothie iz rdeče pese   \n",
       "53                          Vložena zelenjava   \n",
       "\n",
       "                                                   Opis  \\\n",
       "2069  Potica je gotovo najbolj znana in najbolj razš...   \n",
       "1320  V knjigi Potice iz Slovnije prof. dr. Janez Bo...   \n",
       "509   Pico imamo vsi radi že zaradi neštetih možnost...   \n",
       "1673  Veganski bananini krofi s čokoladnim oblivom s...   \n",
       "1100  Legenda pravi, da je sendvič nastal tako, da j...   \n",
       "1677  Super zelene testenine, ki so na jedilniku sko...   \n",
       "94    Naše mame in babice so bile v kuhnji prave moj...   \n",
       "363   Vaflji so odlična izbira za tiste dni, ko se ž...   \n",
       "1947  Smoothiji postajajo nepogrešljiv del marsikate...   \n",
       "53    Obilje vrtnih pridelkov nas prav sili, da del ...   \n",
       "\n",
       "      Dolžina opisa (besede)  \n",
       "2069                     162  \n",
       "1320                     135  \n",
       "509                      118  \n",
       "1673                     117  \n",
       "1100                     116  \n",
       "1677                     111  \n",
       "94                       105  \n",
       "363                      105  \n",
       "1947                     101  \n",
       "53                       101  "
      ]
     },
     "execution_count": 13,
     "metadata": {},
     "output_type": "execute_result"
    }
   ],
   "source": [
    "RECEPTI.sort_values(by= 'Dolžina opisa (besede)', ascending=False, inplace=True)\n",
    "tabela = RECEPTI[['Ime', 'Opis', 'Dolžina opisa (besede)']]\n",
    "tabela.head(10)"
   ]
  },
  {
   "cell_type": "markdown",
   "metadata": {},
   "source": [
    "... in pri katerih najmanj."
   ]
  },
  {
   "cell_type": "code",
   "execution_count": 14,
   "metadata": {},
   "outputs": [
    {
     "data": {
      "text/html": [
       "<div>\n",
       "<style scoped>\n",
       "    .dataframe tbody tr th:only-of-type {\n",
       "        vertical-align: middle;\n",
       "    }\n",
       "\n",
       "    .dataframe tbody tr th {\n",
       "        vertical-align: top;\n",
       "    }\n",
       "\n",
       "    .dataframe thead th {\n",
       "        text-align: right;\n",
       "    }\n",
       "</style>\n",
       "<table border=\"1\" class=\"dataframe\">\n",
       "  <thead>\n",
       "    <tr style=\"text-align: right;\">\n",
       "      <th></th>\n",
       "      <th>Ime</th>\n",
       "      <th>Opis</th>\n",
       "      <th>Dolžina opisa (besede)</th>\n",
       "    </tr>\n",
       "  </thead>\n",
       "  <tbody>\n",
       "    <tr>\n",
       "      <th>5179</th>\n",
       "      <td>Mangov sladoled</td>\n",
       "      <td>Eksotika iz domačega zamrzovalnika!</td>\n",
       "      <td>4</td>\n",
       "    </tr>\n",
       "    <tr>\n",
       "      <th>4331</th>\n",
       "      <td>Krompir z nadevom iz mletega mesa</td>\n",
       "      <td>Enostavno in okusno!</td>\n",
       "      <td>3</td>\n",
       "    </tr>\n",
       "    <tr>\n",
       "      <th>4965</th>\n",
       "      <td>Limonini mafini</td>\n",
       "      <td>Igračkanje. Otročje lahko!</td>\n",
       "      <td>3</td>\n",
       "    </tr>\n",
       "    <tr>\n",
       "      <th>5133</th>\n",
       "      <td>Malinova marmelada brez sladkorja</td>\n",
       "      <td>Mmmmm, slastne maline!</td>\n",
       "      <td>3</td>\n",
       "    </tr>\n",
       "    <tr>\n",
       "      <th>5089</th>\n",
       "      <td>Kuhane artičoke</td>\n",
       "      <td>Afrodiziak romantičnega okusa!</td>\n",
       "      <td>3</td>\n",
       "    </tr>\n",
       "    <tr>\n",
       "      <th>4387</th>\n",
       "      <td>Gratinirane skutne palačinke</td>\n",
       "      <td>Nasitne in imenitne!</td>\n",
       "      <td>3</td>\n",
       "    </tr>\n",
       "    <tr>\n",
       "      <th>2115</th>\n",
       "      <td>Ribji fileji v hrustljavi srajčki</td>\n",
       "      <td>Zdrava 'pohana' ribica.</td>\n",
       "      <td>3</td>\n",
       "    </tr>\n",
       "    <tr>\n",
       "      <th>4376</th>\n",
       "      <td>Lososova nabodala z jogurtovo omako</td>\n",
       "      <td>Za ljubitelje lososa!</td>\n",
       "      <td>3</td>\n",
       "    </tr>\n",
       "    <tr>\n",
       "      <th>4943</th>\n",
       "      <td>Kostanjeva juha</td>\n",
       "      <td>Neverjetno okusna kombinacija!</td>\n",
       "      <td>3</td>\n",
       "    </tr>\n",
       "    <tr>\n",
       "      <th>2447</th>\n",
       "      <td>Steak s pikantno omako, zelenjavno in sadno pr...</td>\n",
       "      <td>aaaa</td>\n",
       "      <td>1</td>\n",
       "    </tr>\n",
       "  </tbody>\n",
       "</table>\n",
       "</div>"
      ],
      "text/plain": [
       "                                                    Ime  \\\n",
       "5179                                    Mangov sladoled   \n",
       "4331                  Krompir z nadevom iz mletega mesa   \n",
       "4965                                    Limonini mafini   \n",
       "5133                  Malinova marmelada brez sladkorja   \n",
       "5089                                    Kuhane artičoke   \n",
       "4387                       Gratinirane skutne palačinke   \n",
       "2115                  Ribji fileji v hrustljavi srajčki   \n",
       "4376                Lososova nabodala z jogurtovo omako   \n",
       "4943                                    Kostanjeva juha   \n",
       "2447  Steak s pikantno omako, zelenjavno in sadno pr...   \n",
       "\n",
       "                                     Opis  Dolžina opisa (besede)  \n",
       "5179  Eksotika iz domačega zamrzovalnika!                       4  \n",
       "4331                 Enostavno in okusno!                       3  \n",
       "4965           Igračkanje. Otročje lahko!                       3  \n",
       "5133               Mmmmm, slastne maline!                       3  \n",
       "5089       Afrodiziak romantičnega okusa!                       3  \n",
       "4387                 Nasitne in imenitne!                       3  \n",
       "2115              Zdrava 'pohana' ribica.                       3  \n",
       "4376                Za ljubitelje lososa!                       3  \n",
       "4943       Neverjetno okusna kombinacija!                       3  \n",
       "2447                                 aaaa                       1  "
      ]
     },
     "execution_count": 14,
     "metadata": {},
     "output_type": "execute_result"
    }
   ],
   "source": [
    "tabela.tail(10)"
   ]
  }
 ],
 "metadata": {
  "kernelspec": {
   "display_name": "Python 3",
   "language": "python",
   "name": "python3"
  },
  "language_info": {
   "codemirror_mode": {
    "name": "ipython",
    "version": 3
   },
   "file_extension": ".py",
   "mimetype": "text/x-python",
   "name": "python",
   "nbconvert_exporter": "python",
   "pygments_lexer": "ipython3",
   "version": "3.11.4"
  }
 },
 "nbformat": 4,
 "nbformat_minor": 2
}
